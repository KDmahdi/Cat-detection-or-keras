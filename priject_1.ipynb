{
  "nbformat": 4,
  "nbformat_minor": 0,
  "metadata": {
    "colab": {
      "provenance": []
    },
    "kernelspec": {
      "name": "python3",
      "display_name": "Python 3"
    },
    "language_info": {
      "name": "python"
    }
  },
  "cells": [
    {
      "cell_type": "code",
      "execution_count": 158,
      "metadata": {
        "id": "h60LobLPxwh7"
      },
      "outputs": [],
      "source": [
        "import tensorflow as tf\n",
        "from tensorflow import keras\n",
        "from sklearn.model_selection import train_test_split\n",
        "import matplotlib.pyplot as plt\n",
        "import numpy as np\n",
        "import tensorflow as tf\n",
        "import matplotlib.pyplot as plt\n",
        "from tensorflow.keras.applications.xception import preprocess_input"
      ]
    },
    {
      "cell_type": "code",
      "source": [
        "(x_train ,y_train) , (x_test ,  y_test) =  keras.datasets.cifar10.load_data()"
      ],
      "metadata": {
        "id": "thU2rELhx22H"
      },
      "execution_count": 159,
      "outputs": []
    },
    {
      "cell_type": "code",
      "source": [
        "x_train.shape"
      ],
      "metadata": {
        "colab": {
          "base_uri": "https://localhost:8080/"
        },
        "id": "i4w2YW7qzMuO",
        "outputId": "9da4784d-833e-4e91-e68f-3a006197b867"
      },
      "execution_count": 160,
      "outputs": [
        {
          "output_type": "execute_result",
          "data": {
            "text/plain": [
              "(50000, 32, 32, 3)"
            ]
          },
          "metadata": {},
          "execution_count": 160
        }
      ]
    },
    {
      "cell_type": "code",
      "source": [
        "plt.imshow(x_train[1,:,:,:])\n"
      ],
      "metadata": {
        "colab": {
          "base_uri": "https://localhost:8080/",
          "height": 447
        },
        "id": "uDd6TRoQzRTk",
        "outputId": "ecb01442-10f6-4f03-a6cb-3334fedd61f5"
      },
      "execution_count": 161,
      "outputs": [
        {
          "output_type": "execute_result",
          "data": {
            "text/plain": [
              "<matplotlib.image.AxesImage at 0x7cea265958d0>"
            ]
          },
          "metadata": {},
          "execution_count": 161
        },
        {
          "output_type": "display_data",
          "data": {
            "text/plain": [
              "<Figure size 640x480 with 1 Axes>"
            ],
            "image/png": "[encoded data removed]"
          },
          "metadata": {}
        }
      ]
    },
    {
      "cell_type": "code",
      "source": [
        "imges =  x_train[: , : , : ,:]\n",
        "imges.shape\n"
      ],
      "metadata": {
        "colab": {
          "base_uri": "https://localhost:8080/"
        },
        "id": "Rf1xMqEyzpfl",
        "outputId": "6770798b-0bb7-44b8-9ce3-1236849fc30b"
      },
      "execution_count": 162,
      "outputs": [
        {
          "output_type": "execute_result",
          "data": {
            "text/plain": [
              "(50000, 32, 32, 3)"
            ]
          },
          "metadata": {},
          "execution_count": 162
        }
      ]
    },
    {
      "cell_type": "markdown",
      "source": [
        "##difin esy model"
      ],
      "metadata": {
        "id": "fAt_9uhA07k9"
      }
    },
    {
      "cell_type": "code",
      "source": [
        "xception = keras.applications.Xception()"
      ],
      "metadata": {
        "id": "BrcmmINA1DW1"
      },
      "execution_count": 163,
      "outputs": []
    },
    {
      "cell_type": "code",
      "source": [
        "xception.get_weights()[4]"
      ],
      "metadata": {
        "colab": {
          "base_uri": "https://localhost:8080/"
        },
        "id": "q2T5fLG-1mTt",
        "outputId": "7591118d-c28a-43bc-a4c5-a5cb30dd6093"
      },
      "execution_count": 164,
      "outputs": [
        {
          "output_type": "execute_result",
          "data": {
            "text/plain": [
              "array([1.174924  , 0.42562392, 0.7513589 , 0.3956494 , 1.3301405 ,\n",
              "       1.8515638 , 1.2027425 , 0.48117185, 1.0230384 , 4.211655  ,\n",
              "       1.436519  , 1.3428196 , 2.3895216 , 1.5807769 , 0.61565375,\n",
              "       0.36527613, 0.34800532, 1.1410723 , 1.7575557 , 2.8983915 ,\n",
              "       0.7578797 , 0.4013618 , 2.4910073 , 1.7205771 , 1.4753577 ,\n",
              "       0.75064784, 0.2652215 , 0.24663983, 0.70143086, 1.3514191 ,\n",
              "       2.9107018 , 4.0356674 ], dtype=float32)"
            ]
          },
          "metadata": {},
          "execution_count": 164
        }
      ]
    },
    {
      "cell_type": "markdown",
      "source": [
        "# **Defining a section of code😃**\n",
        "\n",
        "Well, since the Xception model is more complete, we’re using this model.\n",
        "\n",
        "Now, what happens when we use the clone_model method is that the weights of our model get initialized randomly. So, instead, we take the weights from the previous model. Why? Because Xception is the most complete model and it has the best weights. So, the smartest thing to do is to use those weights.\n",
        "\"We built this model so that we have a copy of the original model. If any changes are made to the original model, we can still have a fixed and untouched model. Generally, I did this to make my work easier, and this step isn’t necessarily required.\""
      ],
      "metadata": {
        "id": "pJeX5hf16Po6"
      }
    },
    {
      "cell_type": "code",
      "source": [
        "model_0_clonwet =  keras.models.clone_model(xception)\n",
        "model_0_clonwet.set_weights(xception.get_weights())"
      ],
      "metadata": {
        "id": "NWrH9vhJ5DD6"
      },
      "execution_count": 165,
      "outputs": []
    },
    {
      "cell_type": "code",
      "source": [
        "model_0_clonwet.get_weights()[4]"
      ],
      "metadata": {
        "colab": {
          "base_uri": "https://localhost:8080/"
        },
        "id": "yqKPCc186HqU",
        "outputId": "fb339edd-418a-484a-9338-f1cb3567b43f"
      },
      "execution_count": 166,
      "outputs": [
        {
          "output_type": "execute_result",
          "data": {
            "text/plain": [
              "array([1.174924  , 0.42562392, 0.7513589 , 0.3956494 , 1.3301405 ,\n",
              "       1.8515638 , 1.2027425 , 0.48117185, 1.0230384 , 4.211655  ,\n",
              "       1.436519  , 1.3428196 , 2.3895216 , 1.5807769 , 0.61565375,\n",
              "       0.36527613, 0.34800532, 1.1410723 , 1.7575557 , 2.8983915 ,\n",
              "       0.7578797 , 0.4013618 , 2.4910073 , 1.7205771 , 1.4753577 ,\n",
              "       0.75064784, 0.2652215 , 0.24663983, 0.70143086, 1.3514191 ,\n",
              "       2.9107018 , 4.0356674 ], dtype=float32)"
            ]
          },
          "metadata": {},
          "execution_count": 166
        }
      ]
    },
    {
      "cell_type": "code",
      "source": [
        "xception_base  =  keras.applications.Xception(include_top  = False)\n",
        "ga_layer =  keras.layers.GlobalAveragePooling2D()(xception_base.output)\n",
        "output =  keras.layers.Dense(1, activation  =  \"sigmoid\" , ) (ga_layer)\n",
        "model  =  keras.Model(inputs = xception_base.input ,  outputs  = output)"
      ],
      "metadata": {
        "id": "VEYQeKgF8w-q"
      },
      "execution_count": 167,
      "outputs": []
    },
    {
      "cell_type": "code",
      "source": [
        "for layer in xception_base.layers[:-5]:\n",
        "    layer.trainable  = False"
      ],
      "metadata": {
        "id": "g_rV-8kK_TOZ"
      },
      "execution_count": 168,
      "outputs": []
    },
    {
      "cell_type": "code",
      "source": [
        "y_train_new = np.where(y_train == 3, 1, 0)[:5000]\n",
        "# x_train =  x_train[:5000,] / 255.0\n",
        "\n",
        "x_train_subset = x_train[:5000]\n",
        "x_train_processed = preprocess_input(x_train_subset)\n",
        "y_train = y_train_new[:, ]"
      ],
      "metadata": {
        "id": "QsYH_iIhBZCR"
      },
      "execution_count": 169,
      "outputs": []
    },
    {
      "cell_type": "code",
      "source": [
        "optimizer = keras.optimizers.Adam(learning_rate=1e-4)\n",
        "model.compile(loss=\"binary_crossentropy\",\n",
        "              optimizer=optimizer,\n",
        "              metrics=[\"accuracy\"])"
      ],
      "metadata": {
        "id": "_Bf1EgE-CMgw"
      },
      "execution_count": 170,
      "outputs": []
    },
    {
      "cell_type": "code",
      "source": [
        "earlystopping_callback = keras.callbacks.EarlyStopping(patience=4,\n",
        "                             restore_best_weights=True)"
      ],
      "metadata": {
        "id": "2iFrCsndIpVt"
      },
      "execution_count": 171,
      "outputs": []
    },
    {
      "cell_type": "code",
      "source": [
        "model.fit(x_train_processed , y_train_new , epochs= 10 , validation_split = 0.15,\n",
        "          callbacks= [earlystopping_callback])"
      ],
      "metadata": {
        "colab": {
          "base_uri": "https://localhost:8080/"
        },
        "id": "ZgPrg3w2EJWP",
        "outputId": "2bc4eb9f-4af8-43fc-e33c-ea66be1c1647"
      },
      "execution_count": 172,
      "outputs": [
        {
          "output_type": "stream",
          "name": "stdout",
          "text": [
            "Epoch 1/10\n",
            "\u001b[1m133/133\u001b[0m \u001b[32m━━━━━━━━━━━━━━━━━━━━\u001b[0m\u001b[37m\u001b[0m \u001b[1m78s\u001b[0m 535ms/step - accuracy: 0.8139 - loss: 0.5973 - val_accuracy: 0.9013 - val_loss: 0.3508\n",
            "Epoch 2/10\n",
            "\u001b[1m133/133\u001b[0m \u001b[32m━━━━━━━━━━━━━━━━━━━━\u001b[0m\u001b[37m\u001b[0m \u001b[1m80s\u001b[0m 524ms/step - accuracy: 0.8988 - loss: 0.3768 - val_accuracy: 0.9013 - val_loss: 0.3121\n",
            "Epoch 3/10\n",
            "\u001b[1m133/133\u001b[0m \u001b[32m━━━━━━━━━━━━━━━━━━━━\u001b[0m\u001b[37m\u001b[0m \u001b[1m82s\u001b[0m 523ms/step - accuracy: 0.9081 - loss: 0.2733 - val_accuracy: 0.9027 - val_loss: 0.2869\n",
            "Epoch 4/10\n",
            "\u001b[1m133/133\u001b[0m \u001b[32m━━━━━━━━━━━━━━━━━━━━\u001b[0m\u001b[37m\u001b[0m \u001b[1m85s\u001b[0m 546ms/step - accuracy: 0.9076 - loss: 0.2306 - val_accuracy: 0.9027 - val_loss: 0.2730\n",
            "Epoch 5/10\n",
            "\u001b[1m133/133\u001b[0m \u001b[32m━━━━━━━━━━━━━━━━━━━━\u001b[0m\u001b[37m\u001b[0m \u001b[1m82s\u001b[0m 544ms/step - accuracy: 0.9188 - loss: 0.1939 - val_accuracy: 0.9000 - val_loss: 0.2661\n",
            "Epoch 6/10\n",
            "\u001b[1m133/133\u001b[0m \u001b[32m━━━━━━━━━━━━━━━━━━━━\u001b[0m\u001b[37m\u001b[0m \u001b[1m80s\u001b[0m 531ms/step - accuracy: 0.9181 - loss: 0.1909 - val_accuracy: 0.9013 - val_loss: 0.2655\n",
            "Epoch 7/10\n",
            "\u001b[1m133/133\u001b[0m \u001b[32m━━━━━━━━━━━━━━━━━━━━\u001b[0m\u001b[37m\u001b[0m \u001b[1m71s\u001b[0m 534ms/step - accuracy: 0.9262 - loss: 0.1670 - val_accuracy: 0.9000 - val_loss: 0.2562\n",
            "Epoch 8/10\n",
            "\u001b[1m133/133\u001b[0m \u001b[32m━━━━━━━━━━━━━━━━━━━━\u001b[0m\u001b[37m\u001b[0m \u001b[1m82s\u001b[0m 538ms/step - accuracy: 0.9422 - loss: 0.1427 - val_accuracy: 0.9027 - val_loss: 0.2594\n",
            "Epoch 9/10\n",
            "\u001b[1m133/133\u001b[0m \u001b[32m━━━━━━━━━━━━━━━━━━━━\u001b[0m\u001b[37m\u001b[0m \u001b[1m70s\u001b[0m 529ms/step - accuracy: 0.9542 - loss: 0.1195 - val_accuracy: 0.9040 - val_loss: 0.2501\n",
            "Epoch 10/10\n",
            "\u001b[1m133/133\u001b[0m \u001b[32m━━━━━━━━━━━━━━━━━━━━\u001b[0m\u001b[37m\u001b[0m \u001b[1m71s\u001b[0m 535ms/step - accuracy: 0.9602 - loss: 0.1146 - val_accuracy: 0.9040 - val_loss: 0.2560\n"
          ]
        },
        {
          "output_type": "execute_result",
          "data": {
            "text/plain": [
              "<keras.src.callbacks.history.History at 0x7cea26628510>"
            ]
          },
          "metadata": {},
          "execution_count": 172
        }
      ]
    },
    {
      "cell_type": "code",
      "source": [
        "y_test_new = np.where(y_test == 3, 1, 0)[:]\n",
        "print(y_test_new[0])"
      ],
      "metadata": {
        "colab": {
          "base_uri": "https://localhost:8080/"
        },
        "id": "izcllqF1QLH6",
        "outputId": "35c0e8ac-4a1e-463d-dcc7-6f9d201e794f"
      },
      "execution_count": 173,
      "outputs": [
        {
          "output_type": "stream",
          "name": "stdout",
          "text": [
            "[1]\n"
          ]
        }
      ]
    },
    {
      "cell_type": "code",
      "source": [
        "x  =0\n",
        "plt.imshow(x_test[x])"
      ],
      "metadata": {
        "colab": {
          "base_uri": "https://localhost:8080/",
          "height": 447
        },
        "id": "koSs7murPWUa",
        "outputId": "8191a087-8547-4a99-bb07-2c0f4ea99fe8"
      },
      "execution_count": 179,
      "outputs": [
        {
          "output_type": "execute_result",
          "data": {
            "text/plain": [
              "<matplotlib.image.AxesImage at 0x7cea0777e2d0>"
            ]
          },
          "metadata": {},
          "execution_count": 179
        },
        {
          "output_type": "display_data",
          "data": {
            "text/plain": [
              "<Figure size 640x480 with 1 Axes>"
            ],
            "image/png": "[encoded data removed]"
          },
          "metadata": {}
        }
      ]
    },
    {
      "cell_type": "code",
      "source": [
        "x_testt =  x_test[:]\n",
        "img = np.expand_dims(x_testt[0], axis=0)\n",
        "processed_img = preprocess_input(img)\n",
        "model.predict(processed_img)"
      ],
      "metadata": {
        "colab": {
          "base_uri": "https://localhost:8080/"
        },
        "id": "mLMB0wJuOgdM",
        "outputId": "1c442898-1c8e-4b50-90cb-6a98f8075813"
      },
      "execution_count": 180,
      "outputs": [
        {
          "output_type": "stream",
          "name": "stdout",
          "text": [
            "\u001b[1m1/1\u001b[0m \u001b[32m━━━━━━━━━━━━━━━━━━━━\u001b[0m\u001b[37m\u001b[0m \u001b[1m0s\u001b[0m 61ms/step\n"
          ]
        },
        {
          "output_type": "execute_result",
          "data": {
            "text/plain": [
              "array([[0.32348064]], dtype=float32)"
            ]
          },
          "metadata": {},
          "execution_count": 180
        }
      ]
    }
  ]
}